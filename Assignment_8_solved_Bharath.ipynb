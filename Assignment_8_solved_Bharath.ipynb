{
 "cells": [
  {
   "cell_type": "markdown",
   "id": "11f47018",
   "metadata": {},
   "source": [
    "1. In Python, what is the difference between a built-in function and a user-defined function? Provide an\n",
    "example of each."
   ]
  },
  {
   "cell_type": "markdown",
   "id": "16bd3e95",
   "metadata": {},
   "source": [
    "<font color=\"blue\">\n",
    "\n",
    "\n",
    "\n",
    "**Ans:**\n",
    "    \n",
    "Built-in functions are the prebuilt functions in Python which can execute the specific task by calling those functions without coding anywhere.\n",
    "\n",
    "    Example: min, max, sum\n",
    "\n",
    "User-defined functions are functions that were developed by the user to perform a specific task. These functions are known for reusability, meaning once we code this function, we can use this function any number of times.\n",
    "   \n",
    "    Ex: we can write a function to \"on\" and \"off\" the light, \n",
    "        we can write a function to for different drive modes in a vehicle.    \n",
    "        these functions can be use any number of times just by calling the function.\n",
    "   "
   ]
  },
  {
   "cell_type": "markdown",
   "id": "85f8d2bd",
   "metadata": {},
   "source": [
    "2. How can you pass arguments to a function in Python? Explain the difference between positional\n",
    "arguments and keyword arguments."
   ]
  },
  {
   "attachments": {},
   "cell_type": "markdown",
   "id": "1cdec356",
   "metadata": {},
   "source": [
    "<font color=\"blue\">\n",
    "\n",
    "**Ans:**\n",
    "    \n",
    "    Syntax for defining and using functions with arguments is as follows:    \n",
    "    \n",
    "    def function name (paramerter1,paramerter2):\n",
    "        funtion body\n",
    "    \n",
    "    fun(argument1,argument2)\n",
    "    \n",
    "Majorly there are two types of arguments are there postional and keyword arguments.\n",
    "    \n",
    "**positional arguments** are to  pass parmaeters or inputs to the function in the spesifc order.according to the order they appear in the function's parameter list.\n",
    "    \n",
    "Below is the example to understand positional arguments.\n",
    "    "
   ]
  },
  {
   "cell_type": "code",
   "execution_count": 6,
   "id": "28c6b10e",
   "metadata": {},
   "outputs": [
    {
     "name": "stdout",
     "output_type": "stream",
     "text": [
      "Tesla has object detection Feature\n"
     ]
    }
   ],
   "source": [
    "def adas(company,application):\n",
    "    \n",
    "    print(f\"{company} has {application} Feature\")\n",
    "    \n",
    "\n",
    "adas(\"Tesla\",\"object detection\") # here positional arguments Tesla and object detection need to be given in same order.      \n",
    "    "
   ]
  },
  {
   "cell_type": "markdown",
   "id": "caf790ec",
   "metadata": {},
   "source": [
    "<font color=\"blue\">\n",
    "    \n",
    "**keyword arguments**\n",
    "    \n",
    "    Key word arguments syntax\n",
    "    \n",
    "    def function name (paramerter1,paramerter2):\n",
    "        funtion body\n",
    "    \n",
    "    fun(paramerter1=\"xx\",paramerter2 =3)\n",
    "    \n",
    "    \n",
    "**keyword arguments** are passed using parameter name followed by \"=\" to assign a value to argument,This allows user to specify values for specific parameters regardless of their order.\n",
    "Also, we can assing defult values to parameters while defining the function, which can updated while calling based on requirment."
   ]
  },
  {
   "cell_type": "code",
   "execution_count": 26,
   "id": "02b652a7",
   "metadata": {
    "scrolled": true
   },
   "outputs": [
    {
     "name": "stdout",
     "output_type": "stream",
     "text": [
      "F 150 can travel upto 110 mph\n",
      "Mustang can travel upto 160 mph\n",
      "Accord can travel upto 120 mph\n"
     ]
    }
   ],
   "source": [
    "def speed(vehicle,maxspeed=120):# assinging default 120 value to maxspeed\n",
    "    \n",
    "    print(f\"{vehicle} can travel upto {maxspeed} mph\")\n",
    "        \n",
    "\n",
    "speed(maxspeed=110,vehicle=\"F 150\")  # here the order of maxspeed and vehicle are are changed but we get excepted output.\n",
    "\n",
    "speed(\"Mustang\",160) # here the values are updated based on calling of fuctions.\n",
    "\n",
    "speed(\"Accord\") # here the default value of maxspeed is assinged eventhough we havenot called the max speed."
   ]
  },
  {
   "cell_type": "markdown",
   "id": "812458cd",
   "metadata": {},
   "source": [
    "3. What is the purpose of the return statement in a function? Can a function have multiple return\n",
    "statements? Explain with an example."
   ]
  },
  {
   "cell_type": "markdown",
   "id": "fa669e53",
   "metadata": {},
   "source": [
    "<font color=\"blue\">\n",
    "\n",
    "**Ans:**\n",
    "    \n",
    "The return statement is used to specify the value that the function should \"return\" as its result. \n",
    "    \n",
    "yes function can have multiple return statments below is the example for this.\n",
    "    \n"
   ]
  },
  {
   "cell_type": "code",
   "execution_count": 59,
   "id": "4b0b21d2",
   "metadata": {},
   "outputs": [
    {
     "name": "stdout",
     "output_type": "stream",
     "text": [
      "student grading for this term is B\n"
     ]
    }
   ],
   "source": [
    "def assessment(score):\n",
    " \n",
    "    if score >= 93:\n",
    "        return \"A\"\n",
    "    elif score >=80:\n",
    "        return \"B\"\n",
    "    elif score >=70:\n",
    "        return \"C\"\n",
    "    else:\n",
    "        return \"F\"\n",
    "    \n",
    "grade = assessment(90)\n",
    "\n",
    "print(f\"student grading for this term is {grade}\")\n",
    "    "
   ]
  },
  {
   "cell_type": "markdown",
   "id": "68a379da",
   "metadata": {},
   "source": [
    "4. What are lambda functions in Python? How are they different from regular functions? Provide an\n",
    "example where a lambda function can be useful."
   ]
  },
  {
   "cell_type": "markdown",
   "id": "3bb73323",
   "metadata": {},
   "source": [
    "<font color=\"blue\">\n",
    "    \n",
    "**Ans:**\n",
    "\"Lambda functions are functions that can be used for single expressions. In contrast, regular functions have a definition, body, and return statement, while lambda functions can achieve the same result in a single line. It's important to note that lambda functions are limited to single expressions.\n",
    "\n",
    "A lambda function is defined using the 'lambda' keyword followed by input parameters and an expression.\n",
    "    \n",
    "    Ex:power=lambda a,b:a**b\n",
    "       power(2,3)\n",
    "    "
   ]
  },
  {
   "cell_type": "code",
   "execution_count": 62,
   "id": "4c84ecef",
   "metadata": {},
   "outputs": [
    {
     "data": {
      "text/plain": [
       "8"
      ]
     },
     "execution_count": 62,
     "metadata": {},
     "output_type": "execute_result"
    }
   ],
   "source": [
    "power=lambda a,b:a**b\n",
    "power(2,3)"
   ]
  },
  {
   "cell_type": "markdown",
   "id": "53d95e0b",
   "metadata": {},
   "source": [
    "5. How does the concept of \"scope\" apply to functions in Python? Explain the difference between local\n",
    "scope and global scope."
   ]
  },
  {
   "cell_type": "markdown",
   "id": "6fcaabce",
   "metadata": {},
   "source": [
    "<font color=\"blue\">\n",
    "\n",
    "**Ans:** \n",
    "\n",
    "Scope is the region were the variable influance exists, global scope means variable influances over entire program, where as local scope will be constrained to a function or a local region.\n"
   ]
  },
  {
   "cell_type": "code",
   "execution_count": 66,
   "id": "37bbc021",
   "metadata": {},
   "outputs": [
    {
     "name": "stdout",
     "output_type": "stream",
     "text": [
      "Global scope 15\n",
      "local scope 10\n"
     ]
    }
   ],
   "source": [
    "a=15\n",
    "\n",
    "def fun():\n",
    "    a=10\n",
    "    \n",
    "    print(f\"local scope {a}\") # scope within in funcion\n",
    "\n",
    "print(f\"Global scope {a}\")# scope in entire program.\n",
    "fun()    \n",
    "\n"
   ]
  },
  {
   "cell_type": "markdown",
   "id": "847858af",
   "metadata": {},
   "source": [
    "6. How can you use the \"return\" statement in a Python function to return multiple values?\n"
   ]
  },
  {
   "cell_type": "markdown",
   "id": "ceeaf5c0",
   "metadata": {},
   "source": [
    "<font color=\"blue\">\n",
    "\n",
    "**Ans:** \n",
    "\n",
    "Return statment can be used to return multiple items by packing them into a datastructre like tuple, list, dictonary Below are the examples for each\n"
   ]
  },
  {
   "cell_type": "code",
   "execution_count": 74,
   "id": "6c50ec3a",
   "metadata": {},
   "outputs": [
    {
     "name": "stdout",
     "output_type": "stream",
     "text": [
      "('Honda', 'Accord', 26000, 2023)\n"
     ]
    }
   ],
   "source": [
    "#tuple\n",
    "\n",
    "def multiple_return_tuple():\n",
    "    Brand=\"Honda\"\n",
    "    model=\"Accord\"\n",
    "    price= 26000\n",
    "    year=2023\n",
    "    \n",
    "    return Brand,model,price, year\n",
    "result_tuple= multiple_return_tuple()\n",
    "print(result_tuple)"
   ]
  },
  {
   "cell_type": "code",
   "execution_count": 75,
   "id": "2e1b2606",
   "metadata": {},
   "outputs": [
    {
     "name": "stdout",
     "output_type": "stream",
     "text": [
      "['Honda', 'Accord', 26000, 2023]\n"
     ]
    }
   ],
   "source": [
    "#list\n",
    "\n",
    "def multiple_return_list():\n",
    "    Brand=\"Honda\"\n",
    "    model=\"Accord\"\n",
    "    price= 26000\n",
    "    year=2023\n",
    "    \n",
    "    return [Brand,model,price, year]\n",
    "result_list= multiple_return_list()\n",
    "print(result_list)"
   ]
  },
  {
   "cell_type": "code",
   "execution_count": 77,
   "id": "47c3ca1a",
   "metadata": {},
   "outputs": [
    {
     "name": "stdout",
     "output_type": "stream",
     "text": [
      "{'Honda accord': 26000, 'Honda crv': 32000}\n"
     ]
    }
   ],
   "source": [
    "#dictonary\n",
    "\n",
    "def multiple_return_dictonary():\n",
    "    brand=\"Honda accord\"\n",
    "    base_price=26000\n",
    "    brand2=\"Honda crv\"\n",
    "    base_price2=32000\n",
    "    \n",
    "    return {brand:base_price,brand2:base_price2}\n",
    "result_dictonary= multiple_return_dictonary()\n",
    "print(result_dictonary)"
   ]
  },
  {
   "cell_type": "markdown",
   "id": "d2bb198f",
   "metadata": {},
   "source": [
    "7. What is the difference between the \"pass by value\" and \"pass by reference\" concepts when it\n",
    "comes to function arguments in Python?"
   ]
  },
  {
   "cell_type": "markdown",
   "id": "44d9a5af",
   "metadata": {},
   "source": [
    "<font color=\"blue\">\n",
    "\n",
    "**Ans:** \n",
    "    \n",
    "The major difference between “pass by value” and “pass by reference” is that when you pass an argument by value, a copy of the object is created and passed to the function. Any changes made to the object inside the function do not affect the original object. When you pass an argument by reference, a reference to the original object is passed to the function. Any changes made to the object inside the function affect the original object."
   ]
  },
  {
   "cell_type": "code",
   "execution_count": 87,
   "id": "01b374a3",
   "metadata": {},
   "outputs": [
    {
     "name": "stdout",
     "output_type": "stream",
     "text": [
      "updated x in function :10\n",
      "actual x copy :15\n"
     ]
    }
   ],
   "source": [
    "x=15\n",
    "def pass_by_value(x):\n",
    "    x=10\n",
    "    return x\n",
    "y=pass_by_value(x)\n",
    "print(f\"updated x in function :{y}\")\n",
    "print(f\"actual x copy :{x}\")\n",
    "    "
   ]
  },
  {
   "cell_type": "code",
   "execution_count": 88,
   "id": "325157fe",
   "metadata": {},
   "outputs": [
    {
     "name": "stdout",
     "output_type": "stream",
     "text": [
      "updated argument in function :[1, 9, 7, 1]\n",
      "updated a orignal :[1, 9, 7, 1]\n"
     ]
    }
   ],
   "source": [
    "a=[1,8,7,1]\n",
    "def pass_by_refernce(a):\n",
    "    a[1]=9\n",
    "    return a\n",
    "b=pass_by_refernce(a)\n",
    "print(f\"updated argument in function :{b}\")\n",
    "print(f\"updated a orignal :{a}\")"
   ]
  },
  {
   "cell_type": "markdown",
   "id": "3801c620",
   "metadata": {},
   "source": [
    "8. Create a function that can intake integer or decimal value and do following operations\n",
    "a. Logarithmic function (log x)\n",
    "b. Exponential function (exp(x))\n",
    "c. Power function with base 2 (2x)\n",
    "d. Square root"
   ]
  },
  {
   "cell_type": "code",
   "execution_count": 101,
   "id": "01cc72e0",
   "metadata": {},
   "outputs": [
    {
     "name": "stdout",
     "output_type": "stream",
     "text": [
      "Enter a integer or decimal value : 25\n",
      "Log of input value is : 3.2188758248682006\n",
      "Exponential of input value is : 72004899337.38588\n",
      "Power of input value with base 2 : 33554432.0\n",
      "Square root of input value is : 5.0\n"
     ]
    }
   ],
   "source": [
    "import math\n",
    "x=float(input(\"Enter a integer or decimal value : \"))\n",
    "\n",
    "def exp(x):\n",
    "    if x <= 0:\n",
    "        print(\"Input value must be positive for logarithmic and square root functions.\")\n",
    "        return\n",
    "    \n",
    "    log_fun=math.log(x)\n",
    "    print(f\"Log of input value is : {log_fun}\")\n",
    "    exp_fun=math.exp(x)\n",
    "    print(f\"Exponential of input value is : {exp_fun}\")\n",
    "    pow_fun=math.pow(2, x)\n",
    "    print(f\"Power of input value with base 2 : {pow_fun}\")\n",
    "    sqrt_fun=math.sqrt(x)\n",
    "    print(f\"Square root of input value is : {sqrt_fun}\")\n",
    "    \n",
    "exp(x)    "
   ]
  },
  {
   "cell_type": "markdown",
   "id": "918ac0c7",
   "metadata": {},
   "source": [
    "9. Create a function that takes a full name as an argument and returns first name and last name."
   ]
  },
  {
   "cell_type": "code",
   "execution_count": 109,
   "id": "5f1951a0",
   "metadata": {},
   "outputs": [
    {
     "name": "stdout",
     "output_type": "stream",
     "text": [
      "please enter your first name and last name with a space in btw: Bharath Thota\n",
      "First name is : Bharath\n",
      "Last name is : Thota\n"
     ]
    }
   ],
   "source": [
    "name=input(\"please enter your first name and last name with a space in btw: \")\n",
    "def fun(name):\n",
    "    split=str.split(name)\n",
    "    first_name=split[0]\n",
    "    last_name=split[1]\n",
    "    return first_name, last_name\n",
    "   \n",
    "first_name, last_name = fun(name)\n",
    "print(f\"First name is : {first_name}\")\n",
    "print(f\"Last name is : {last_name}\")"
   ]
  }
 ],
 "metadata": {
  "kernelspec": {
   "display_name": "Python 3 (ipykernel)",
   "language": "python",
   "name": "python3"
  },
  "language_info": {
   "codemirror_mode": {
    "name": "ipython",
    "version": 3
   },
   "file_extension": ".py",
   "mimetype": "text/x-python",
   "name": "python",
   "nbconvert_exporter": "python",
   "pygments_lexer": "ipython3",
   "version": "3.10.9"
  }
 },
 "nbformat": 4,
 "nbformat_minor": 5
}
